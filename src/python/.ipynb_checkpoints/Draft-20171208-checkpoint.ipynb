{
 "cells": [
  {
   "cell_type": "markdown",
   "metadata": {},
   "source": [
    "# Linear Programming Example with SciPy"
   ]
  },
  {
   "cell_type": "markdown",
   "metadata": {},
   "source": [
    "Source: http://www.vision.ime.usp.br/~igor/articles/optimization-linprog.html"
   ]
  },
  {
   "cell_type": "code",
   "execution_count": 2,
   "metadata": {
    "collapsed": true
   },
   "outputs": [],
   "source": [
    "import numpy as np\n",
    "import scipy as sp\n",
    "from scipy.optimize import linprog\n",
    "from numpy.linalg import solve"
   ]
  },
  {
   "cell_type": "markdown",
   "metadata": {},
   "source": [
    "Problem in consideration\n",
    "\n",
    "\\begin{equation}\n",
    "\\begin{array}{rl}\n",
    "\\text{minimize}&f(x)=c^\\top x\\\\\n",
    "\\text{s. t.}&Ax=b\\\\\n",
    "&x\\geq0\n",
    "\\end{array}\n",
    "\\end{equation}"
   ]
  },
  {
   "cell_type": "markdown",
   "metadata": {},
   "source": [
    "A startup want to build talking washing machines spending the least possible. There are three ways of building them: manually, semi-automatically and automatically. The manual production demands 1 minute of qualified work, 40 minutes of non-qualified work and three minutes of assemblage. The work times are 4, 30 and 2 minutos for the semi-automatic method and 8, 20 and 4 minutos for the fully automatic method. A startup has a pool of 4500 minutes of qualified work, 36000 minutos of non-qualified work and 2700 minutos of assembly. The costs of the production are 70, 80 and 85 euros for the manual, semi-automatic and automatic methods."
   ]
  },
  {
   "cell_type": "markdown",
   "metadata": {},
   "source": [
    "The variables are the number of machines $x_1$, $x_2$ and $x_3$ built using each method(manual, semi-automatically and automatically). The cost to be minimized is the production cost: $70x_1+80x_2+85x_3$. There are constraints regarding the number of machines to be produced (999) and the capacity of the factory. The complete formulation is show below.\n",
    "\n"
   ]
  },
  {
   "cell_type": "markdown",
   "metadata": {},
   "source": [
    "\\begin{cases}\n",
    "\\textrm{minimize} f(x) = 70x_1 + 80x_2 +85x_3 \\textrm{ s.a.}\\\\\n",
    "x_1 + x_2 + x_3 = 999\\\\\n",
    "x_1 + 4x_2 + 8x_3 \\leq 4500\\\\\n",
    "40x_1 + 30x_2 + 20x_3 \\leq 36000\\\\\n",
    "3x_1 + 2x_2 + 4x_3 \\leq 2700\\\\\n",
    "x \\geq 0\n",
    "\\end{cases}"
   ]
  },
  {
   "cell_type": "code",
   "execution_count": 3,
   "metadata": {},
   "outputs": [
    {
     "name": "stdout",
     "output_type": "stream",
     "text": [
      "('Optimal value:', 73725.0, '\\nX:', array([ 636.,  330.,   33.]))\n"
     ]
    }
   ],
   "source": [
    "A_eq = np.array([[1,1,1]])\n",
    "b_eq = np.array([999])\n",
    "\n",
    "A_ub = np.array([\n",
    "[1, 4, 8],\n",
    "[40,30,20],\n",
    "[3,2,4]])\n",
    "\n",
    "b_ub = np.array([4500, 36000,2700])\n",
    "\n",
    "c = np.array([70, 80, 85])\n",
    "\n",
    "res = linprog(c, A_eq=A_eq, b_eq=b_eq, A_ub=A_ub, b_ub=b_ub,\n",
    "bounds=(0, None))\n",
    "print('Optimal value:', res.fun, '\\nX:', res.x)"
   ]
  },
  {
   "cell_type": "code",
   "execution_count": null,
   "metadata": {
    "collapsed": true
   },
   "outputs": [],
   "source": []
  }
 ],
 "metadata": {
  "kernelspec": {
   "display_name": "Python 2",
   "language": "python",
   "name": "python2"
  },
  "language_info": {
   "codemirror_mode": {
    "name": "ipython",
    "version": 2
   },
   "file_extension": ".py",
   "mimetype": "text/x-python",
   "name": "python",
   "nbconvert_exporter": "python",
   "pygments_lexer": "ipython2",
   "version": "2.7.14"
  }
 },
 "nbformat": 4,
 "nbformat_minor": 2
}
