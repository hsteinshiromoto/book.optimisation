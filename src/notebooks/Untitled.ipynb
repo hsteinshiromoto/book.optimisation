{
 "cells": [
  {
   "cell_type": "code",
   "execution_count": 9,
   "metadata": {},
   "outputs": [],
   "source": [
    "import numpy as np\n",
    "from numpy.linalg import norm\n",
    "\n",
    "import random"
   ]
  },
  {
   "cell_type": "code",
   "execution_count": 13,
   "metadata": {},
   "outputs": [],
   "source": [
    "dim = 10\n",
    "A = np.random.random_sample((dim, dim))\n",
    "f = lambda x, y, z: norm(x) - norm(y) + norm(A*z)"
   ]
  },
  {
   "cell_type": "code",
   "execution_count": 14,
   "metadata": {},
   "outputs": [],
   "source": [
    "x0 = np.random.random_sample((dim, 1))\n",
    "y0 = np.random.random_sample((dim, 1))\n",
    "z0 = np.random.random_sample((dim, 1))"
   ]
  },
  {
   "cell_type": "code",
   "execution_count": 15,
   "metadata": {},
   "outputs": [],
   "source": [
    "f0 = f(x0, y0, z0)"
   ]
  },
  {
   "cell_type": "code",
   "execution_count": 20,
   "metadata": {
    "scrolled": true
   },
   "outputs": [
    {
     "name": "stdout",
     "output_type": "stream",
     "text": [
      "[0.95972738 0.53704381 0.61875393 0.70572608 0.89323639 0.94144802\n",
      " 0.53704381 0.91505754 0.23382036 0.61386966]\n",
      "[0.53704381 0.61386966 0.95972738 0.23382036 0.18857502 0.53704381\n",
      " 0.95972738 0.28275038 0.61875393 0.28275038]\n"
     ]
    }
   ],
   "source": [
    "def cross_over(v1, v2):\n",
    "    parents = np.append(v1, v2)\n",
    "    child1 = []\n",
    "    child2 = []\n",
    "    for count in range(dim):\n",
    "        child1.append(random.choice(parents))\n",
    "        child2.append(random.choice(parents))\n",
    "                       \n",
    "    return np.array(child1), np.array(child2)\n",
    "\n",
    "child1, child2 = cross_over(x0, y0)\n",
    "print(child1)\n",
    "print(child2)"
   ]
  },
  {
   "cell_type": "code",
   "execution_count": 23,
   "metadata": {},
   "outputs": [
    {
     "name": "stdout",
     "output_type": "stream",
     "text": [
      "7\n"
     ]
    }
   ],
   "source": [
    "def mutate(v):\n",
    "    index = np.random.randint(0, high=dim-1, size=1)[0]\n",
    "    v[index] = np.random.randint(0, high=dim-1, size=1)[0]\n",
    "\n",
    "    return v"
   ]
  },
  {
   "cell_type": "code",
   "execution_count": null,
   "metadata": {},
   "outputs": [],
   "source": [
    "max_iter_num = 100\n",
    "for counter in range(max_iter_num):\n",
    "    value_current = f(x_current, y_current, z_current)\n",
    "    child1xy, child2xy = cross_over(x_current, y_current)\n",
    "    child1xz, child2xz = cross_over(x_current, z_current)\n",
    "    child1yz, child2yz = cross_over(y_current, z_current)\n",
    "    \n",
    "    child1xy = mutate(child1xy)\n",
    "    child2xy = mutate(child2xy)\n",
    "    child1xz = mutate(child1xz)\n",
    "    child2xz = mutate(child2xz)\n",
    "    child1yz = mutate(child1yz)\n",
    "    child2yz = mutate(child2yz)\n",
    "    \n",
    "    childs = [child1xy, child2xy, child1xz, child2xz, child1yz, child2yz]\n",
    "    \n",
    "    for counter in range(2):\n",
    "        value = f(childs[counter], counter[], counter[])\n",
    "        if value < value_current:\n",
    "            x_current = child1xy\n",
    "            y_current = child1xz\n",
    "            \n",
    "    "
   ]
  }
 ],
 "metadata": {
  "kernelspec": {
   "display_name": "Python 3",
   "language": "python",
   "name": "python3"
  },
  "language_info": {
   "codemirror_mode": {
    "name": "ipython",
    "version": 3
   },
   "file_extension": ".py",
   "mimetype": "text/x-python",
   "name": "python",
   "nbconvert_exporter": "python",
   "pygments_lexer": "ipython3",
   "version": "3.6.4"
  }
 },
 "nbformat": 4,
 "nbformat_minor": 2
}
