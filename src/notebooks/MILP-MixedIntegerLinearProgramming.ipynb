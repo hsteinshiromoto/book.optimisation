{
 "cells": [
  {
   "cell_type": "markdown",
   "metadata": {},
   "source": [
    "# This Notebook Presents an Example of Mixed Integer Linear Programming"
   ]
  },
  {
   "cell_type": "markdown",
   "metadata": {},
   "source": [
    "## 1. Programming Requirements"
   ]
  },
  {
   "cell_type": "code",
   "execution_count": 24,
   "metadata": {},
   "outputs": [],
   "source": [
    "# Requires the solver ECOS_BB \n",
    "# See: http://www.cvxpy.org/en/latest/tutorial/advanced/\n",
    "# https://github.com/embotech/ecos-python\n",
    "from cvxpy import *"
   ]
  },
  {
   "cell_type": "markdown",
   "metadata": {},
   "source": [
    "## 2. Example"
   ]
  },
  {
   "cell_type": "markdown",
   "metadata": {},
   "source": [
    "Consider the example adapted from https://en.wikipedia.org/wiki/Integer_programming:\n",
    "\\begin{equation}\n",
    "\\begin{array}{rl}\n",
    "\\text{minimise}&y\\\\\n",
    "\\text{such that}&-x+y\\leq1\\\\\n",
    "&3x+2y\\leq12\\\\\n",
    "&2x+3y\\leq12\n",
    "&x,y\\in\\mathbb{N}\n",
    "\\end{array}\n",
    "\\end{equation}"
   ]
  },
  {
   "cell_type": "code",
   "execution_count": 47,
   "metadata": {},
   "outputs": [
    {
     "name": "stdout",
     "output_type": "stream",
     "text": [
      "optimal (-x + y <= 1) dual variable 1.16593832992\n",
      "x opt: 2.00000000004\n",
      "y opt: 2.00000000002\n"
     ]
    }
   ],
   "source": [
    "# Example adapted from http://www.cvxpy.org/en/latest/tutorial/advanced/\n",
    "\n",
    "# Create two scalar optimization variables.\n",
    "x = Int()\n",
    "y = Int()\n",
    "\n",
    "# Create two constraints.\n",
    "constraints = [-x + y <= 1,\n",
    "               3*x + 2*y <= 12,\n",
    "               2*x + 3*y <= 12,\n",
    "               x>=0,\n",
    "               y>=0]\n",
    "\n",
    "# Form objective.\n",
    "obj = Maximize(y)\n",
    "\n",
    "# Form and solve problem.\n",
    "prob = Problem(obj, constraints)\n",
    "prob.solve(verbose=False)\n",
    "\n",
    "# The optimal dual variable (Lagrange multiplier) for\n",
    "# a constraint is stored in constraint.dual_value.\n",
    "print \"optimal (-x + y <= 1) dual variable\", constraints[0].dual_value\n",
    "\n",
    "# Shows the optimal values\n",
    "print \"x opt:\", x.value\n",
    "print \"y opt:\", y.value\n"
   ]
  },
  {
   "cell_type": "markdown",
   "metadata": {},
   "source": [
    "The LP relaxation solves the previous problem as a continuous one"
   ]
  },
  {
   "cell_type": "code",
   "execution_count": 49,
   "metadata": {},
   "outputs": [
    {
     "name": "stdout",
     "output_type": "stream",
     "text": [
      "optimal (-x + y <= 1) dual variable 0.400000000829\n",
      "x opt: 1.80000000054\n",
      "y opt: 2.799999999\n"
     ]
    }
   ],
   "source": [
    "# Example adapted from http://www.cvxpy.org/en/latest/tutorial/advanced/\n",
    "\n",
    "# Create two scalar optimization variables.\n",
    "x = Variable()\n",
    "y = Variable()\n",
    "\n",
    "# Create two constraints.\n",
    "constraints = [-x + y <= 1,\n",
    "               3*x + 2*y <= 12,\n",
    "               2*x + 3*y <= 12,\n",
    "               x>=0,\n",
    "               y>=0]\n",
    "\n",
    "# Form objective.\n",
    "obj = Maximize(y)\n",
    "\n",
    "# Form and solve problem.\n",
    "prob = Problem(obj, constraints)\n",
    "prob.solve(verbose=False)\n",
    "\n",
    "# The optimal dual variable (Lagrange multiplier) for\n",
    "# a constraint is stored in constraint.dual_value.\n",
    "print \"optimal (-x + y <= 1) dual variable\", constraints[0].dual_value\n",
    "\n",
    "# Shows the optimal values\n",
    "print \"x opt:\", x.value\n",
    "print \"y opt:\", y.value\n"
   ]
  },
  {
   "cell_type": "markdown",
   "metadata": {},
   "source": [
    "![IP polytope with LP relaxation](../latex/imgs/IP_polytope_with_LP_relaxation.png)"
   ]
  },
  {
   "cell_type": "code",
   "execution_count": null,
   "metadata": {
    "collapsed": true
   },
   "outputs": [],
   "source": []
  }
 ],
 "metadata": {
  "kernelspec": {
   "display_name": "Python 2",
   "language": "python",
   "name": "python2"
  },
  "language_info": {
   "codemirror_mode": {
    "name": "ipython",
    "version": 2
   },
   "file_extension": ".py",
   "mimetype": "text/x-python",
   "name": "python",
   "nbconvert_exporter": "python",
   "pygments_lexer": "ipython2",
   "version": "2.7.13"
  }
 },
 "nbformat": 4,
 "nbformat_minor": 2
}
